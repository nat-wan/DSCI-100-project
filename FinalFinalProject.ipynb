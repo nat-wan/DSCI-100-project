{
 "cells": [
  {
   "cell_type": "markdown",
   "id": "248064ea-a051-4e28-9b44-90449418bf62",
   "metadata": {},
   "source": [
    "FINAL PROJECT"
   ]
  },
  {
   "cell_type": "markdown",
   "id": "a9423362-16d1-4b20-b101-d1d115f82a8e",
   "metadata": {},
   "source": [
    "\n",
    "Introduction:"
   ]
  },
  {
   "cell_type": "markdown",
   "id": "f7b26061-c08b-4d8b-ada7-131e4d3aa42c",
   "metadata": {},
   "source": [
    "\n",
    "Methods and Results:"
   ]
  },
  {
   "cell_type": "markdown",
   "id": "7413bc74-bec6-4983-9367-c9265e487a5c",
   "metadata": {},
   "source": [
    "Discussion:"
   ]
  },
  {
   "cell_type": "code",
   "execution_count": null,
   "id": "bf112b68-0788-44bb-ad92-4472d2364be8",
   "metadata": {},
   "outputs": [],
   "source": []
  }
 ],
 "metadata": {
  "kernelspec": {
   "display_name": "R",
   "language": "R",
   "name": "ir"
  },
  "language_info": {
   "codemirror_mode": "r",
   "file_extension": ".r",
   "mimetype": "text/x-r-source",
   "name": "R",
   "pygments_lexer": "r",
   "version": "4.3.3"
  }
 },
 "nbformat": 4,
 "nbformat_minor": 5
}
