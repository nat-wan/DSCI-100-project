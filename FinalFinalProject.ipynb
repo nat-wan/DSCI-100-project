{
 "cells": [
  {
   "cell_type": "markdown",
   "id": "248064ea-a051-4e28-9b44-90449418bf62",
   "metadata": {},
   "source": [
    "Final Project"
   ]
  },
  {
   "cell_type": "markdown",
   "id": "a9423362-16d1-4b20-b101-d1d115f82a8e",
   "metadata": {},
   "source": [
    "test\n"
   ]
  },
  {
   "cell_type": "code",
   "execution_count": null,
   "id": "e1c2285e-1a4b-4627-8904-1e8154956534",
   "metadata": {},
   "outputs": [],
   "source": []
  },
  {
   "cell_type": "code",
   "execution_count": null,
   "id": "22dfb137-bff9-4d64-bd1b-b85136f54912",
   "metadata": {},
   "outputs": [],
   "source": []
  }
 ],
 "metadata": {
  "kernelspec": {
   "display_name": "R",
   "language": "R",
   "name": "ir"
  },
  "language_info": {
   "codemirror_mode": "r",
   "file_extension": ".r",
   "mimetype": "text/x-r-source",
   "name": "R",
   "pygments_lexer": "r",
   "version": "4.3.3"
  }
 },
 "nbformat": 4,
 "nbformat_minor": 5
}
